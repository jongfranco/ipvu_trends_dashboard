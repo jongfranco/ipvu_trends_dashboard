{
 "cells": [
  {
   "cell_type": "code",
   "execution_count": 9,
   "metadata": {},
   "outputs": [],
   "source": [
    "import numpy as np\n",
    "import pandas as pd\n",
    "from pathlib import Path\n",
    "import matplotlib.pyplot as plt"
   ]
  },
  {
   "cell_type": "markdown",
   "metadata": {},
   "source": [
    "# Read in data"
   ]
  },
  {
   "cell_type": "code",
   "execution_count": 16,
   "metadata": {},
   "outputs": [
    {
     "name": "stdout",
     "output_type": "stream",
     "text": [
      "   Unnamed: 0                                              Title  \\\n",
      "0           0  International Coalition of Medicines Regulator...   \n",
      "1           1  Availability of medicines during COVID-19 pand...   \n",
      "2           2      Public-health advice during COVID-19 pandemic   \n",
      "3           3          EMA’s governance during COVID-19 pandemic   \n",
      "4           4      Public-health advice during COVID-19 pandemic   \n",
      "\n",
      "                                                Link  \\\n",
      "0  https://www.ema.europa.eu/en/partners-networks...   \n",
      "1  https://www.ema.europa.eu/en/human-regulatory/...   \n",
      "2  https://www.ema.europa.eu/en/human-regulatory/...   \n",
      "3  https://www.ema.europa.eu/en/human-regulatory/...   \n",
      "4  https://www.ema.europa.eu/en/human-regulatory/...   \n",
      "\n",
      "                                            Abstract PublishedDate  \\\n",
      "0  EMA endorsed a joint statement by the members ...      28 April   \n",
      "1  EMA provided an update on the measures EU auth...      24 April   \n",
      "2  EMA and the national competent authorities rem...      24 April   \n",
      "3  EMA announced that essential work to combat th...      23 April   \n",
      "4  EMA reminded patients and healthcare professio...      23 April   \n",
      "\n",
      "                                        MoreInfoLink source  \n",
      "0  International regulators pledge collective sup...   emea  \n",
      "1  EU actions to support availability of medicine...   emea  \n",
      "2  Reporting suspected side effects of medicines ...   emea  \n",
      "3  Essential work to combat the COVID-19 pandemic...   emea  \n",
      "4  COVID-19: reminder of risk of serious side eff...   emea  \n",
      "----------------------------------------------------------------------------------------------------\n",
      "   Unnamed: 0               Type  \\\n",
      "0           0   Original Article   \n",
      "1           1  Clinical Practice   \n",
      "2           2     Correspondence   \n",
      "3           3     Correspondence   \n",
      "4           4     Correspondence   \n",
      "\n",
      "                                             Title  \\\n",
      "0  Presymptomatic SARS-CoV-2 in a Nursing Facility   \n",
      "1                        Mild or Moderate Covid-19   \n",
      "2                       Transforming ORs into ICUs   \n",
      "3                 ST-Segment Elevation in Covid-19   \n",
      "4      Neurologic Features in SARS-CoV-2 Infection   \n",
      "\n",
      "                                                Link  \\\n",
      "0  /doi/full/10.1056/NEJMoa2008457?query=featured...   \n",
      "1  /doi/full/10.1056/NEJMcp2009249?query=featured...   \n",
      "2  /doi/full/10.1056/NEJMc2010853?query=featured_...   \n",
      "3  /doi/full/10.1056/NEJMc2009020?query=featured_...   \n",
      "4  /doi/full/10.1056/NEJMc2008597?query=featured_...   \n",
      "\n",
      "                                       Authors  \\\n",
      "0                        M.M. Arons and Others   \n",
      "1      R.T. Gandhi, J.B. Lynch, and C. del Rio   \n",
      "2  A.W. Peters, K.S. Chawla, and Z.A. Turnbull   \n",
      "3                      S. Bangalore and Others   \n",
      "4                          J. Helms and Others   \n",
      "\n",
      "                                            Abstract PublishedDate  \\\n",
      "0  The authors assessed transmission of SARS-CoV-...        Apr 24   \n",
      "1  The diagnosis of Covid-19 is usually based on ...        Apr 24   \n",
      "2  In the epicenter of New York City, a medical c...        Apr 24   \n",
      "3  Eighteen patients with Covid-19 presented with...        Apr 17   \n",
      "4  In a consecutive series of 64 patients with Co...        Apr 15   \n",
      "\n",
      "   Availability source  \n",
      "0           NaN   nejm  \n",
      "1           NaN   nejm  \n",
      "2           NaN   nejm  \n",
      "3           NaN   nejm  \n",
      "4           NaN   nejm  \n",
      "----------------------------------------------------------------------------------------------------\n",
      "   Unnamed: 0      PMID                                              Title  \\\n",
      "0           0  32335184  Coronavirus Disease 2019 (COVID-19) and Radiol...   \n",
      "1           1  32335585  The Coronavirus Pandemic: What Does the Eviden...   \n",
      "2           2  32335168  Dynamics of anti-SARS-Cov-2 IgM and IgG antibo...   \n",
      "3           3  32335416  Coronavirus Disease 2019 (COVID-19) and dermat...   \n",
      "4           4  32335233  Personal protective equipment in the response ...   \n",
      "\n",
      "                    Joirnal  \\\n",
      "0          J Am Coll Radiol   \n",
      "1  J Nepal Health Res Counc   \n",
      "2                  J Infect   \n",
      "3    Ecotoxicol Environ Saf   \n",
      "4                Int J Surg   \n",
      "\n",
      "                                             Authors         PublishedDate  \\\n",
      "0  ['Slanetz, Priscilla J', 'Parikh, Ujas', 'Chap...  2020-04-27T11:00:00Z   \n",
      "1  ['Paudel, Shishir', 'Dangal, Ganesh', 'Chalise...  2020-04-27T11:00:00Z   \n",
      "2  ['Lee, Yu-Lin', 'Liao, Chia-Hung', 'Liu, Po-Yu...  2020-04-27T11:00:00Z   \n",
      "3   ['Emadi, Seyed-Naser', 'Abtahi-Naeini, Bahareh']  2020-04-27T11:00:00Z   \n",
      "4  ['Ali, Yousif', 'Alradhawi, Mohammad', 'Shubbe...  2020-04-27T11:00:00Z   \n",
      "\n",
      "                                              Topics  HighLights  source  \n",
      "0                                     ['Prevention']         NaN  pubmed  \n",
      "1  ['Diagnosis', 'Mechanism', 'Treatment', 'Preve...         NaN  pubmed  \n",
      "2                         ['Treatment', 'Diagnosis']         NaN  pubmed  \n",
      "3                                     ['Prevention']         NaN  pubmed  \n",
      "4                                     ['Prevention']         NaN  pubmed  \n",
      "----------------------------------------------------------------------------------------------------\n",
      "   Unnamed: 0            Type  \\\n",
      "0           0  Correspondence   \n",
      "1           1  Correspondence   \n",
      "2           2  Correspondence   \n",
      "3           3         Comment   \n",
      "4           4         Comment   \n",
      "\n",
      "                                               Title  \\\n",
      "0  Atypical presentation of COVID-19 in young inf...   \n",
      "1  What does it mean to be made vulnerable in the...   \n",
      "2  An international registry for emergent pathoge...   \n",
      "3  What policy makers need to know about COVID-19...   \n",
      "4  Management of patients with multiple myeloma d...   \n",
      "\n",
      "                                                Link  \\\n",
      "0  /journals/lancet/article/PIIS0140-6736(20)3098...   \n",
      "1  /journals/lancet/article/PIIS0140-6736(20)3097...   \n",
      "2  /journals/lancet/article/PIIS0140-6736(20)3098...   \n",
      "3  /journals/lancet/article/PIIS0140-6736(20)3098...   \n",
      "4  /journals/lanhae/article/PIIS2352-3026(20)3012...   \n",
      "\n",
      "                                         DOI_link  \\\n",
      "0   https://doi.org/10.1016/S0140-6736(20)30980-6   \n",
      "1   https://doi.org/10.1016/S0140-6736(20)30979-X   \n",
      "2   https://doi.org/10.1016/S0140-6736(20)30981-8   \n",
      "3   https://doi.org/10.1016/S0140-6736(20)30985-5   \n",
      "4   https://doi.org/10.1016/S2352-3026(20)30124-1   \n",
      "\n",
      "                                             Authors                Citation  \\\n",
      "0     Nadia Nathan, Blandine Prevost, Harriet Corvol              The Lancet   \n",
      "1  Ayesha Ahmad, Ryoa Chung, Lisa Eckenwiler, Ago...              The Lancet   \n",
      "2  Alice Panchaud, Guillaume Favre, Leo Pomar, Ma...              The Lancet   \n",
      "3  Daniel M Altmann, Daniel C Douek, Rosemary J B...              The Lancet   \n",
      "4                      Florent Malard, Mohamad Mohty  The Lancet Haematology   \n",
      "\n",
      "     PublishedDate Availability      source  \n",
      "0   April 27, 2020       Closed  the_lancet  \n",
      "1   April 27, 2020       Closed  the_lancet  \n",
      "2   April 27, 2020       Closed  the_lancet  \n",
      "3   April 27, 2020       Closed  the_lancet  \n",
      "4   April 27, 2020       Closed  the_lancet  \n",
      "----------------------------------------------------------------------------------------------------\n"
     ]
    }
   ],
   "source": [
    "pathlist = Path('Data/').glob('**/*.csv')\n",
    "data = []\n",
    "for path in pathlist:\n",
    "    path_in_str = str(path)\n",
    "    data.append(pd.read_csv(path_in_str))\n",
    "    data[-1]['source'] = path_in_str.split('/')[1].split('_articles')[0]\n",
    "    print(data[-1].head())\n",
    "    print('-'*100)"
   ]
  },
  {
   "cell_type": "markdown",
   "metadata": {},
   "source": [
    "# Initial exploration data"
   ]
  },
  {
   "cell_type": "code",
   "execution_count": 17,
   "metadata": {},
   "outputs": [
    {
     "name": "stdout",
     "output_type": "stream",
     "text": [
      "<class 'pandas.core.frame.DataFrame'>\n",
      "RangeIndex: 41 entries, 0 to 40\n",
      "Data columns (total 7 columns):\n",
      " #   Column         Non-Null Count  Dtype \n",
      "---  ------         --------------  ----- \n",
      " 0   Unnamed: 0     41 non-null     int64 \n",
      " 1   Title          41 non-null     object\n",
      " 2   Link           41 non-null     object\n",
      " 3   Abstract       41 non-null     object\n",
      " 4   PublishedDate  41 non-null     object\n",
      " 5   MoreInfoLink   41 non-null     object\n",
      " 6   source         41 non-null     object\n",
      "dtypes: int64(1), object(6)\n",
      "memory usage: 2.4+ KB\n",
      "<class 'pandas.core.frame.DataFrame'>\n",
      "RangeIndex: 51 entries, 0 to 50\n",
      "Data columns (total 9 columns):\n",
      " #   Column         Non-Null Count  Dtype  \n",
      "---  ------         --------------  -----  \n",
      " 0   Unnamed: 0     51 non-null     int64  \n",
      " 1   Type           51 non-null     object \n",
      " 2   Title          51 non-null     object \n",
      " 3   Link           50 non-null     object \n",
      " 4   Authors        47 non-null     object \n",
      " 5   Abstract       51 non-null     object \n",
      " 6   PublishedDate  47 non-null     object \n",
      " 7   Availability   0 non-null      float64\n",
      " 8   source         51 non-null     object \n",
      "dtypes: float64(1), int64(1), object(7)\n",
      "memory usage: 3.7+ KB\n",
      "<class 'pandas.core.frame.DataFrame'>\n",
      "RangeIndex: 10 entries, 0 to 9\n",
      "Data columns (total 9 columns):\n",
      " #   Column         Non-Null Count  Dtype  \n",
      "---  ------         --------------  -----  \n",
      " 0   Unnamed: 0     10 non-null     int64  \n",
      " 1   PMID           10 non-null     int64  \n",
      " 2   Title          10 non-null     object \n",
      " 3   Joirnal        10 non-null     object \n",
      " 4   Authors        10 non-null     object \n",
      " 5   PublishedDate  10 non-null     object \n",
      " 6   Topics         10 non-null     object \n",
      " 7   HighLights     0 non-null      float64\n",
      " 8   source         10 non-null     object \n",
      "dtypes: float64(1), int64(2), object(6)\n",
      "memory usage: 848.0+ bytes\n",
      "<class 'pandas.core.frame.DataFrame'>\n",
      "RangeIndex: 43 entries, 0 to 42\n",
      "Data columns (total 10 columns):\n",
      " #   Column         Non-Null Count  Dtype \n",
      "---  ------         --------------  ----- \n",
      " 0   Unnamed: 0     43 non-null     int64 \n",
      " 1   Type           42 non-null     object\n",
      " 2   Title          43 non-null     object\n",
      " 3   Link           43 non-null     object\n",
      " 4   DOI_link       43 non-null     object\n",
      " 5   Authors        23 non-null     object\n",
      " 6   Citation       43 non-null     object\n",
      " 7   PublishedDate  23 non-null     object\n",
      " 8   Availability   43 non-null     object\n",
      " 9   source         43 non-null     object\n",
      "dtypes: int64(1), object(9)\n",
      "memory usage: 3.5+ KB\n"
     ]
    },
    {
     "data": {
      "text/plain": [
       "[None, None, None, None]"
      ]
     },
     "execution_count": 17,
     "metadata": {},
     "output_type": "execute_result"
    }
   ],
   "source": [
    "[source.info() for source in data]"
   ]
  },
  {
   "cell_type": "code",
   "execution_count": 18,
   "metadata": {},
   "outputs": [
    {
     "name": "stdout",
     "output_type": "stream",
     "text": [
      "       source nb_publ\n",
      "0        emea      41\n",
      "1        nejm      51\n",
      "2      pubmed      10\n",
      "3  the_lancet      43\n"
     ]
    },
    {
     "data": {
      "image/png": "[encoded data removed]",
      "text/plain": [
       "<Figure size 432x288 with 1 Axes>"
      ]
     },
     "metadata": {
      "needs_background": "light"
     },
     "output_type": "display_data"
    }
   ],
   "source": [
    "publ_per_source = pd.DataFrame(columns= ['source','nb_publ'])\n",
    "for data_source in data:\n",
    "    publ_per_source = publ_per_source.append({'source': data_source.source[0], 'nb_publ': len(data_source.index)}, ignore_index=True)\n",
    "\n",
    "print(publ_per_source)\n",
    "\n",
    "#barchart\n",
    "y_pos = np.arange(len(publ_per_source))\n",
    "plt.bar(y_pos, publ_per_source.nb_publ, align='center', alpha=0.5)\n",
    "plt.xticks(y_pos, publ_per_source.source)\n",
    "plt.ylabel('Number of Publications')\n",
    "plt.title('Number of publications scraped per source')\n",
    "\n",
    "plt.show()"
   ]
  },
  {
   "cell_type": "code",
   "execution_count": 22,
   "metadata": {},
   "outputs": [
    {
     "name": "stderr",
     "output_type": "stream",
     "text": [
      "No handles with labels found to put in legend.\n"
     ]
    },
    {
     "data": {
      "image/png": "[encoded data removed]",
      "text/plain": [
       "<Figure size 432x288 with 1 Axes>"
      ]
     },
     "metadata": {
      "needs_background": "light"
     },
     "output_type": "display_data"
    }
   ],
   "source": [
    "sources = publ_per_source.source\n",
    "counts = publ_per_source.nb_publ\n",
    "\n",
    "x = np.arange(len(sources))  # the label locations\n",
    "width = 0.35  # the width of the bars\n",
    "\n",
    "fig, ax = plt.subplots()\n",
    "rects1 = ax.bar(x, counts, width)\n",
    "\n",
    "# Add some text for labels, title and custom x-axis tick labels, etc.\n",
    "ax.set_ylabel('Number of Publications')\n",
    "ax.set_title('Number of publications scraped per source')\n",
    "ax.set_xticks(x)\n",
    "ax.set_xticklabels(sources)\n",
    "ax.legend()\n",
    "\n",
    "\n",
    "def autolabel(rects):\n",
    "    \"\"\"Attach a text label above each bar in *rects*, displaying its height.\"\"\"\n",
    "    for rect in rects:\n",
    "        height = rect.get_height()\n",
    "        ax.annotate('{}'.format(height),\n",
    "                    xy=(rect.get_x() + rect.get_width() / 2, height),\n",
    "                    xytext=(0, 3),  # 3 points vertical offset\n",
    "                    textcoords=\"offset points\",\n",
    "                    ha='center', va='bottom')\n",
    "\n",
    "\n",
    "autolabel(rects1)\n",
    "\n",
    "fig.tight_layout()\n",
    "\n",
    "plt.show()"
   ]
  },
  {
   "cell_type": "code",
   "execution_count": null,
   "metadata": {},
   "outputs": [],
   "source": []
  }
 ],
 "metadata": {
  "kernelspec": {
   "display_name": "Python [conda env:.conda-condapython]",
   "language": "python",
   "name": "conda-env-.conda-condapython-py"
  },
  "language_info": {
   "codemirror_mode": {
    "name": "ipython",
    "version": 3
   },
   "file_extension": ".py",
   "mimetype": "text/x-python",
   "name": "python",
   "nbconvert_exporter": "python",
   "pygments_lexer": "ipython3",
   "version": "3.8.2"
  }
 },
 "nbformat": 4,
 "nbformat_minor": 4
}
