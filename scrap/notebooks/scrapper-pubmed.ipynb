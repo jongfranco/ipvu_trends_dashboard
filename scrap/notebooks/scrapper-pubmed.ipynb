{
 "cells": [
  {
   "cell_type": "markdown",
   "metadata": {},
   "source": [
    "**Step 1:** Get text from [PubMed](https://www.ncbi.nlm.nih.gov/research/coronavirus)\n",
    "You can use the requests library to do this.\n",
    "Outputting all the javascript, CSS, and text may overload the space available to load this notebook, so we omit a print statement here.\n"
   ]
  },
  {
   "cell_type": "code",
   "execution_count": 1,
   "metadata": {},
   "outputs": [],
   "source": [
    "# import statements\n",
    "import requests\n",
    "import pandas as pd"
   ]
  },
  {
   "cell_type": "code",
   "execution_count": 2,
   "metadata": {},
   "outputs": [],
   "source": [
    "# fetch web page\n",
    "r = requests.get(\"https://www.ncbi.nlm.nih.gov/research/coronavirus-api/search/?filters=%7B%7D&sort=score%20desc\")"
   ]
  },
  {
   "cell_type": "markdown",
   "metadata": {},
   "source": [
    "**Step 2:** Use requests to get json of the API"
   ]
  },
  {
   "cell_type": "code",
   "execution_count": 12,
   "metadata": {},
   "outputs": [
    {
     "name": "stdout",
     "output_type": "stream",
     "text": [
      "dict_keys(['results', 'facets', 'page_size', 'current', 'count', 'total_pages'])\n",
      "{'pmid': 32338254, 'title': 'Olfactory and rhinological evaluations in SARS-CoV-2 patients complaining of olfactory loss.', 'journal': 'Rhinology', 'authors': ['Ottaviano, G', 'Carecchio, M', 'Scarpa, B', 'Marchese-Ragona, R'], 'date': '2020-04-28T11:00:00Z', '_id': '32338254', 'countries': ['China'], 'topics': ['Diagnosis'], 'text_hl': None}\n"
     ]
    }
   ],
   "source": [
    "print(r.json().keys())\n",
    "articles = r.json()['results']\n",
    "print(articles[0])"
   ]
  },
  {
   "cell_type": "markdown",
   "metadata": {},
   "source": [
    "**Step 3:** Find all course summaries"
   ]
  },
  {
   "cell_type": "code",
   "execution_count": 12,
   "metadata": {},
   "outputs": [
    {
     "data": {
      "text/plain": [
       "32335184"
      ]
     },
     "execution_count": 12,
     "metadata": {},
     "output_type": "execute_result"
    }
   ],
   "source": [
    "# Extract article PMID\n",
    "articles[0].get('pmid')"
   ]
  },
  {
   "cell_type": "code",
   "execution_count": 13,
   "metadata": {},
   "outputs": [
    {
     "data": {
      "text/plain": [
       "'Coronavirus Disease 2019 (COVID-19) and Radiology Education-Strategies for Survival.'"
      ]
     },
     "execution_count": 13,
     "metadata": {},
     "output_type": "execute_result"
    }
   ],
   "source": [
    "# Extract article title\n",
    "articles[0].get('title')"
   ]
  },
  {
   "cell_type": "code",
   "execution_count": 14,
   "metadata": {},
   "outputs": [
    {
     "data": {
      "text/plain": [
       "'J Am Coll Radiol'"
      ]
     },
     "execution_count": 14,
     "metadata": {},
     "output_type": "execute_result"
    }
   ],
   "source": [
    "# Extract article journal\n",
    "articles[0].get('journal')"
   ]
  },
  {
   "cell_type": "code",
   "execution_count": 15,
   "metadata": {},
   "outputs": [
    {
     "data": {
      "text/plain": [
       "['Slanetz, Priscilla J', 'Parikh, Ujas', 'Chapman, Teresa', 'Moutzas, Cari']"
      ]
     },
     "execution_count": 15,
     "metadata": {},
     "output_type": "execute_result"
    }
   ],
   "source": [
    "# Extract article authors\n",
    "articles[0].get('authors')"
   ]
  },
  {
   "cell_type": "code",
   "execution_count": 16,
   "metadata": {},
   "outputs": [
    {
     "data": {
      "text/plain": [
       "'2020-04-27T11:00:00Z'"
      ]
     },
     "execution_count": 16,
     "metadata": {},
     "output_type": "execute_result"
    }
   ],
   "source": [
    "# Extract published date\n",
    "articles[0].get('date').split(\"T\")[0]"
   ]
  },
  {
   "cell_type": "code",
   "execution_count": 17,
   "metadata": {},
   "outputs": [
    {
     "data": {
      "text/plain": [
       "['Prevention']"
      ]
     },
     "execution_count": 17,
     "metadata": {},
     "output_type": "execute_result"
    }
   ],
   "source": [
    "# Extract topics\n",
    "articles[0].get('topics')"
   ]
  },
  {
   "cell_type": "code",
   "execution_count": 18,
   "metadata": {},
   "outputs": [],
   "source": [
    "# Extract text Highlights\n",
    "articles[0].get('text_hl')"
   ]
  },
  {
   "cell_type": "markdown",
   "metadata": {},
   "source": [
    "## Create dataset from All Articles"
   ]
  },
  {
   "cell_type": "code",
   "execution_count": 25,
   "metadata": {},
   "outputs": [],
   "source": [
    "# Get Details (abstract and doi) from Detail page (link)\n",
    "def get_details(docid: int):\n",
    "    print(\"getting abstract from https://www.ncbi.nlm.nih.gov/research/coronavirus/publication/\" + str(docid))\n",
    "    abstract = \"\"\n",
    "    try:\n",
    "        d = requests.get(\"https://www.ncbi.nlm.nih.gov/research/coronavirus-api/publication/\" + str(docid), timeout=10)\n",
    "    except:\n",
    "        return \"N/A\"\n",
    "    return d.json().get('text')[1], d.json().get('doi')"
   ]
  },
  {
   "cell_type": "code",
   "execution_count": 26,
   "metadata": {},
   "outputs": [
    {
     "name": "stdout",
     "output_type": "stream",
     "text": [
      "getting abstract from https://www.ncbi.nlm.nih.gov/research/coronavirus/publication/32338254\n",
      "getting abstract from https://www.ncbi.nlm.nih.gov/research/coronavirus/publication/32337113\n",
      "getting abstract from https://www.ncbi.nlm.nih.gov/research/coronavirus/publication/32336594\n",
      "getting abstract from https://www.ncbi.nlm.nih.gov/research/coronavirus/publication/32336833\n",
      "getting abstract from https://www.ncbi.nlm.nih.gov/research/coronavirus/publication/32336243\n",
      "getting abstract from https://www.ncbi.nlm.nih.gov/research/coronavirus/publication/32339089\n",
      "getting abstract from https://www.ncbi.nlm.nih.gov/research/coronavirus/publication/32337139\n",
      "getting abstract from https://www.ncbi.nlm.nih.gov/research/coronavirus/publication/32336725\n",
      "getting abstract from https://www.ncbi.nlm.nih.gov/research/coronavirus/publication/32336398\n",
      "getting abstract from https://www.ncbi.nlm.nih.gov/research/coronavirus/publication/32337584\n"
     ]
    }
   ],
   "source": [
    "# Create data list\n",
    "data = list()\n",
    "for article in articles:\n",
    "    details, doi = get_abstract(article.get('pmid'))\n",
    "    data.append(\n",
    "        [article.get('pmid'),\n",
    "         doi,\n",
    "         article.get('title'),\n",
    "         article.get('journal'),\n",
    "         article.get('authors'),\n",
    "         details,\n",
    "         article.get('date'),\n",
    "         article.get('topics'),\n",
    "         article.get('text_hl')\n",
    "    ])"
   ]
  },
  {
   "cell_type": "code",
   "execution_count": 28,
   "metadata": {},
   "outputs": [
    {
     "data": {
      "text/html": [
       "<div>\n",
       "<style scoped>\n",
       "    .dataframe tbody tr th:only-of-type {\n",
       "        vertical-align: middle;\n",
       "    }\n",
       "\n",
       "    .dataframe tbody tr th {\n",
       "        vertical-align: top;\n",
       "    }\n",
       "\n",
       "    .dataframe thead th {\n",
       "        text-align: right;\n",
       "    }\n",
       "</style>\n",
       "<table border=\"1\" class=\"dataframe\">\n",
       "  <thead>\n",
       "    <tr style=\"text-align: right;\">\n",
       "      <th></th>\n",
       "      <th>PMID</th>\n",
       "      <th>DOI</th>\n",
       "      <th>Title</th>\n",
       "      <th>Journal</th>\n",
       "      <th>Authors</th>\n",
       "      <th>Abstract</th>\n",
       "      <th>PublishedDate</th>\n",
       "      <th>Topics</th>\n",
       "      <th>HighLights</th>\n",
       "    </tr>\n",
       "  </thead>\n",
       "  <tbody>\n",
       "    <tr>\n",
       "      <th>0</th>\n",
       "      <td>32338254</td>\n",
       "      <td>10.4193/Rhin20.136</td>\n",
       "      <td>Olfactory and rhinological evaluations in SARS...</td>\n",
       "      <td>Rhinology</td>\n",
       "      <td>[Ottaviano, G, Carecchio, M, Scarpa, B, Marche...</td>\n",
       "      <td>Since December 2019, a novel coronavirus SARS-...</td>\n",
       "      <td>2020-04-28T11:00:00Z</td>\n",
       "      <td>[Diagnosis]</td>\n",
       "      <td>None</td>\n",
       "    </tr>\n",
       "    <tr>\n",
       "      <th>1</th>\n",
       "      <td>32337113</td>\n",
       "      <td>10.7759/cureus.7386</td>\n",
       "      <td>Brief Review on COVID-19: The 2020 Pandemic Ca...</td>\n",
       "      <td>Cureus</td>\n",
       "      <td>[Valencia, Damian N]</td>\n",
       "      <td>Severe acute respiratory syndrome coronavirus ...</td>\n",
       "      <td>2020-04-28T11:00:00Z</td>\n",
       "      <td>[Diagnosis, Treatment, Transmission, Mechanism]</td>\n",
       "      <td>None</td>\n",
       "    </tr>\n",
       "    <tr>\n",
       "      <th>2</th>\n",
       "      <td>32336594</td>\n",
       "      <td>10.1016/j.resinv.2020.03.006</td>\n",
       "      <td>COVID-19 outbreak: An elusive enemy.</td>\n",
       "      <td>Respir Investig</td>\n",
       "      <td>[Kikuchi, Toshiaki]</td>\n",
       "      <td>A novel coronavirus, officially termed as seve...</td>\n",
       "      <td>2020-04-28T11:00:00Z</td>\n",
       "      <td>[General Info]</td>\n",
       "      <td>None</td>\n",
       "    </tr>\n",
       "    <tr>\n",
       "      <th>3</th>\n",
       "      <td>32336833</td>\n",
       "      <td>10.1590/0100-3984.2020.53.2e1</td>\n",
       "      <td>Information about the new coronavirus disease ...</td>\n",
       "      <td>Radiol Bras</td>\n",
       "      <td>[Lima, Claudio Marcio Amaral de Oliveira]</td>\n",
       "      <td>Radiol Bras</td>\n",
       "      <td>2020-04-28T11:00:00Z</td>\n",
       "      <td>[Diagnosis]</td>\n",
       "      <td>None</td>\n",
       "    </tr>\n",
       "    <tr>\n",
       "      <th>4</th>\n",
       "      <td>32336243</td>\n",
       "      <td>10.1177/1089253220921590</td>\n",
       "      <td>Anesthesia and COVID-19: What We Should Know a...</td>\n",
       "      <td>Semin Cardiothorac Vasc Anesth</td>\n",
       "      <td>[Tang, Linda Y, Wang, Jingping]</td>\n",
       "      <td>Coronavirus disease 2019 (COVID-19), caused by...</td>\n",
       "      <td>2020-04-28T11:00:00Z</td>\n",
       "      <td>[Diagnosis, Prevention, Treatment]</td>\n",
       "      <td>None</td>\n",
       "    </tr>\n",
       "  </tbody>\n",
       "</table>\n",
       "</div>"
      ],
      "text/plain": [
       "       PMID                            DOI  \\\n",
       "0  32338254             10.4193/Rhin20.136   \n",
       "1  32337113            10.7759/cureus.7386   \n",
       "2  32336594   10.1016/j.resinv.2020.03.006   \n",
       "3  32336833  10.1590/0100-3984.2020.53.2e1   \n",
       "4  32336243       10.1177/1089253220921590   \n",
       "\n",
       "                                               Title  \\\n",
       "0  Olfactory and rhinological evaluations in SARS...   \n",
       "1  Brief Review on COVID-19: The 2020 Pandemic Ca...   \n",
       "2               COVID-19 outbreak: An elusive enemy.   \n",
       "3  Information about the new coronavirus disease ...   \n",
       "4  Anesthesia and COVID-19: What We Should Know a...   \n",
       "\n",
       "                          Journal  \\\n",
       "0                       Rhinology   \n",
       "1                          Cureus   \n",
       "2                 Respir Investig   \n",
       "3                     Radiol Bras   \n",
       "4  Semin Cardiothorac Vasc Anesth   \n",
       "\n",
       "                                             Authors  \\\n",
       "0  [Ottaviano, G, Carecchio, M, Scarpa, B, Marche...   \n",
       "1                               [Valencia, Damian N]   \n",
       "2                                [Kikuchi, Toshiaki]   \n",
       "3          [Lima, Claudio Marcio Amaral de Oliveira]   \n",
       "4                    [Tang, Linda Y, Wang, Jingping]   \n",
       "\n",
       "                                            Abstract         PublishedDate  \\\n",
       "0  Since December 2019, a novel coronavirus SARS-...  2020-04-28T11:00:00Z   \n",
       "1  Severe acute respiratory syndrome coronavirus ...  2020-04-28T11:00:00Z   \n",
       "2  A novel coronavirus, officially termed as seve...  2020-04-28T11:00:00Z   \n",
       "3                                        Radiol Bras  2020-04-28T11:00:00Z   \n",
       "4  Coronavirus disease 2019 (COVID-19), caused by...  2020-04-28T11:00:00Z   \n",
       "\n",
       "                                            Topics HighLights  \n",
       "0                                      [Diagnosis]       None  \n",
       "1  [Diagnosis, Treatment, Transmission, Mechanism]       None  \n",
       "2                                   [General Info]       None  \n",
       "3                                      [Diagnosis]       None  \n",
       "4               [Diagnosis, Prevention, Treatment]       None  "
      ]
     },
     "execution_count": 28,
     "metadata": {},
     "output_type": "execute_result"
    }
   ],
   "source": [
    "# Create pandas dataframe\n",
    "df = pd.DataFrame(data, columns = ['PMID', 'DOI', 'Title', 'Journal', 'Authors', 'Abstract', 'PublishedDate', 'Topics', 'HighLights'])\n",
    "df.head()"
   ]
  },
  {
   "cell_type": "code",
   "execution_count": 29,
   "metadata": {},
   "outputs": [],
   "source": [
    "# Export CSV\n",
    "df.to_csv('data/pubmed_articles.csv')"
   ]
  },
  {
   "cell_type": "code",
   "execution_count": null,
   "metadata": {},
   "outputs": [],
   "source": []
  }
 ],
 "metadata": {
  "kernelspec": {
   "display_name": "ipvuscrapper",
   "language": "python",
   "name": "python3"
  },
  "language_info": {
   "codemirror_mode": {
    "name": "ipython",
    "version": 3
   },
   "file_extension": ".py",
   "mimetype": "text/x-python",
   "name": "python",
   "nbconvert_exporter": "python",
   "pygments_lexer": "ipython3",
   "version": "3.6.10"
  }
 },
 "nbformat": 4,
 "nbformat_minor": 4
}
