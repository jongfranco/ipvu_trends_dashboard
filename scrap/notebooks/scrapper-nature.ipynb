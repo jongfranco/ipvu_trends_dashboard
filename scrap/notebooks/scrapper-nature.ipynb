{
 "cells": [
  {
   "cell_type": "markdown",
   "metadata": {},
   "source": [
    "**Step 1:** Get articles from [Nature](https://www.nature.com/search?q=covid).\n",
    "We can use the requests library to do this."
   ]
  },
  {
   "cell_type": "code",
   "execution_count": 2,
   "metadata": {},
   "outputs": [],
   "source": [
    "# import statements\n",
    "import requests\n",
    "from bs4 import BeautifulSoup\n",
    "import pandas as pd"
   ]
  },
  {
   "cell_type": "code",
   "execution_count": 3,
   "metadata": {},
   "outputs": [],
   "source": [
    "# fetch web page\n",
    "r = requests.get(\"https://www.nature.com/search?q=covid\")"
   ]
  },
  {
   "cell_type": "markdown",
   "metadata": {},
   "source": [
    "**Step 2:** Use BeautifulSoup to remove HTML tags.\n",
    "Use \"lxml\" rather than \"html5lib\".\n",
    "Outputting all the results may overload the space available to load this notebook, so we omit a print statement here.\n"
   ]
  },
  {
   "cell_type": "code",
   "execution_count": 4,
   "metadata": {},
   "outputs": [],
   "source": [
    "soup = BeautifulSoup(r.text, \"lxml\")"
   ]
  },
  {
   "cell_type": "markdown",
   "metadata": {},
   "source": [
    "**Step 3:** Find all course summaries\n",
    "Use the BeautifulSoup's find_all method to select based on tag type and class name. On Chrome, you can right click on the item, and click \"Inspect\" to view its html on a web page."
   ]
  },
  {
   "cell_type": "code",
   "execution_count": 5,
   "metadata": {},
   "outputs": [],
   "source": [
    "# Find all articles\n",
    "articles = soup.findAll(\"li\", {\"class\":\"mb20\"})"
   ]
  },
  {
   "cell_type": "code",
   "execution_count": 31,
   "metadata": {},
   "outputs": [
    {
     "data": {
      "text/plain": [
       "'/articles/s41375-020-0836-7'"
      ]
     },
     "execution_count": 31,
     "metadata": {},
     "output_type": "execute_result"
    }
   ],
   "source": [
    "# Extract Link\n",
    "link = articles[1].select_one(\"h2\").select_one(\"a\")['href']\n",
    "link"
   ]
  },
  {
   "cell_type": "code",
   "execution_count": 9,
   "metadata": {},
   "outputs": [
    {
     "data": {
      "text/plain": [
       "'COVID-19 in persons with haematological cancers'"
      ]
     },
     "execution_count": 9,
     "metadata": {},
     "output_type": "execute_result"
    }
   ],
   "source": [
    "# Extract article title\n",
    "articles[1].select_one(\"h2\").get_text().strip()"
   ]
  },
  {
   "cell_type": "code",
   "execution_count": 10,
   "metadata": {},
   "outputs": [
    {
     "data": {
      "text/plain": [
       "'Wenjuan He'"
      ]
     },
     "execution_count": 10,
     "metadata": {},
     "output_type": "execute_result"
    }
   ],
   "source": [
    "# Extract article Author\n",
    "articles[1].find(\"li\", {\"itemprop\":\"creator\"}).get_text().strip()"
   ]
  },
  {
   "cell_type": "code",
   "execution_count": 11,
   "metadata": {},
   "outputs": [
    {
     "data": {
      "text/plain": [
       "'Leukemia'"
      ]
     },
     "execution_count": 11,
     "metadata": {},
     "output_type": "execute_result"
    }
   ],
   "source": [
    "# Extract article subject\n",
    "articles[1].find(\"a\", {\"class\": \"emphasis\"}).get_text().strip()"
   ]
  },
  {
   "cell_type": "code",
   "execution_count": 19,
   "metadata": {},
   "outputs": [
    {
     "data": {
      "text/plain": [
       "'Research'"
      ]
     },
     "execution_count": 19,
     "metadata": {},
     "output_type": "execute_result"
    }
   ],
   "source": [
    "# Extract type\n",
    "articles[1].p.find(text=True, recursive=False).strip()"
   ]
  },
  {
   "cell_type": "code",
   "execution_count": 23,
   "metadata": {},
   "outputs": [
    {
     "data": {
      "text/plain": [
       "'2020-04-24'"
      ]
     },
     "execution_count": 23,
     "metadata": {},
     "output_type": "execute_result"
    }
   ],
   "source": [
    "# Extract Published Date\n",
    "articles[1].find(\"time\", {\"itemprop\":\"datePublished\"})['datetime']"
   ]
  },
  {
   "cell_type": "markdown",
   "metadata": {},
   "source": [
    "## Create dataset from All Articles"
   ]
  },
  {
   "cell_type": "code",
   "execution_count": 28,
   "metadata": {},
   "outputs": [],
   "source": [
    "# Create data list\n",
    "data = list()\n",
    "for article in articles:\n",
    "    data.append(\n",
    "        [article.select_one(\"h2\").get_text().strip(),\n",
    "         article.select_one(\"h2\").select_one(\"a\")['href'],\n",
    "         article.find(\"li\", {\"itemprop\":\"creator\"}).get_text().strip() if article.find(\"li\", {\"itemprop\":\"creator\"}) else None,\n",
    "         \"\",\n",
    "         article.p.find(text=True, recursive=False).strip(),\n",
    "         article.find(\"a\", {\"class\": \"emphasis\"}).get_text().strip(),\n",
    "         article.find(\"time\", {\"itemprop\":\"datePublished\"})['datetime']\n",
    "    ])"
   ]
  },
  {
   "cell_type": "code",
   "execution_count": 30,
   "metadata": {},
   "outputs": [
    {
     "data": {
      "text/html": [
       "<div>\n",
       "<style scoped>\n",
       "    .dataframe tbody tr th:only-of-type {\n",
       "        vertical-align: middle;\n",
       "    }\n",
       "\n",
       "    .dataframe tbody tr th {\n",
       "        vertical-align: top;\n",
       "    }\n",
       "\n",
       "    .dataframe thead th {\n",
       "        text-align: right;\n",
       "    }\n",
       "</style>\n",
       "<table border=\"1\" class=\"dataframe\">\n",
       "  <thead>\n",
       "    <tr style=\"text-align: right;\">\n",
       "      <th></th>\n",
       "      <th>Title</th>\n",
       "      <th>Link</th>\n",
       "      <th>Author</th>\n",
       "      <th>Abstract</th>\n",
       "      <th>Type</th>\n",
       "      <th>Subject</th>\n",
       "      <th>PublishedDate</th>\n",
       "    </tr>\n",
       "  </thead>\n",
       "  <tbody>\n",
       "    <tr>\n",
       "      <th>0</th>\n",
       "      <td>Immune cell profiling of COVID-19 patients in ...</td>\n",
       "      <td>/articles/s41421-020-0168-9</td>\n",
       "      <td>Wen Wen</td>\n",
       "      <td></td>\n",
       "      <td>Research</td>\n",
       "      <td>Cell Discovery</td>\n",
       "      <td>2020-05-04</td>\n",
       "    </tr>\n",
       "    <tr>\n",
       "      <th>1</th>\n",
       "      <td>COVID-19 in persons with haematological cancers</td>\n",
       "      <td>/articles/s41375-020-0836-7</td>\n",
       "      <td>Wenjuan He</td>\n",
       "      <td></td>\n",
       "      <td>Research</td>\n",
       "      <td>Leukemia</td>\n",
       "      <td>2020-04-24</td>\n",
       "    </tr>\n",
       "    <tr>\n",
       "      <th>2</th>\n",
       "      <td>Pathological inflammation in patients with COV...</td>\n",
       "      <td>/articles/s41577-020-0331-4</td>\n",
       "      <td>Miriam Merad</td>\n",
       "      <td></td>\n",
       "      <td>Reviews</td>\n",
       "      <td>Nature Reviews Immunology</td>\n",
       "      <td>2020-05-06</td>\n",
       "    </tr>\n",
       "    <tr>\n",
       "      <th>3</th>\n",
       "      <td>Single-cell landscape of bronchoalveolar immun...</td>\n",
       "      <td>/articles/s41591-020-0901-9</td>\n",
       "      <td>Mingfeng Liao</td>\n",
       "      <td></td>\n",
       "      <td>Research</td>\n",
       "      <td>Nature Medicine</td>\n",
       "      <td>2020-05-12</td>\n",
       "    </tr>\n",
       "    <tr>\n",
       "      <th>4</th>\n",
       "      <td>Coronavirus: the first three months as it happ...</td>\n",
       "      <td>/articles/d41586-020-00154-w</td>\n",
       "      <td>None</td>\n",
       "      <td></td>\n",
       "      <td>News</td>\n",
       "      <td>Nature</td>\n",
       "      <td>2020-04-22</td>\n",
       "    </tr>\n",
       "  </tbody>\n",
       "</table>\n",
       "</div>"
      ],
      "text/plain": [
       "                                               Title  \\\n",
       "0  Immune cell profiling of COVID-19 patients in ...   \n",
       "1    COVID-19 in persons with haematological cancers   \n",
       "2  Pathological inflammation in patients with COV...   \n",
       "3  Single-cell landscape of bronchoalveolar immun...   \n",
       "4  Coronavirus: the first three months as it happ...   \n",
       "\n",
       "                           Link         Author Abstract      Type  \\\n",
       "0   /articles/s41421-020-0168-9        Wen Wen           Research   \n",
       "1   /articles/s41375-020-0836-7     Wenjuan He           Research   \n",
       "2   /articles/s41577-020-0331-4   Miriam Merad            Reviews   \n",
       "3   /articles/s41591-020-0901-9  Mingfeng Liao           Research   \n",
       "4  /articles/d41586-020-00154-w           None               News   \n",
       "\n",
       "                     Subject PublishedDate  \n",
       "0             Cell Discovery    2020-05-04  \n",
       "1                   Leukemia    2020-04-24  \n",
       "2  Nature Reviews Immunology    2020-05-06  \n",
       "3            Nature Medicine    2020-05-12  \n",
       "4                     Nature    2020-04-22  "
      ]
     },
     "execution_count": 30,
     "metadata": {},
     "output_type": "execute_result"
    }
   ],
   "source": [
    "# Create pandas dataframe\n",
    "df = pd.DataFrame(data, columns = ['Title', 'Link', 'Author', 'Abstract', 'Type', 'Subject', 'PublishedDate'])\n",
    "df.head()"
   ]
  },
  {
   "cell_type": "code",
   "execution_count": 57,
   "metadata": {},
   "outputs": [],
   "source": [
    "# Export CSV\n",
    "df.to_csv('data/emea_articles.csv')"
   ]
  },
  {
   "cell_type": "code",
   "execution_count": 49,
   "metadata": {},
   "outputs": [
    {
     "data": {
      "text/plain": [
       "'10.1038/s41375-020-0836-7'"
      ]
     },
     "execution_count": 49,
     "metadata": {},
     "output_type": "execute_result"
    }
   ],
   "source": [
    "# Get Abstract from link\n",
    "def get_abstract():\n",
    "    d = requests.get(\"https://www.nature.com\" + link)\n",
    "    content_soup = BeautifulSoup(d.text, \"lxml\")\n",
    "    abstract = content_soup.find(\"div\", {\"id\":\"Abs1-content\"})\n",
    "    doi = content_soup.select_one(\"#article-info-content\").find(\"a\", {\"data-track-action\": \"view doi\"}).get_text()\n",
    "    doi.replace(\"https://doi.org/\", \"\")"
   ]
  },
  {
   "cell_type": "code",
   "execution_count": null,
   "metadata": {},
   "outputs": [],
   "source": []
  }
 ],
 "metadata": {
  "kernelspec": {
   "display_name": "ipvuscrapper",
   "language": "python",
   "name": "python3"
  },
  "language_info": {
   "codemirror_mode": {
    "name": "ipython",
    "version": 3
   },
   "file_extension": ".py",
   "mimetype": "text/x-python",
   "name": "python",
   "nbconvert_exporter": "python",
   "pygments_lexer": "ipython3",
   "version": "3.6.10"
  }
 },
 "nbformat": 4,
 "nbformat_minor": 4
}
