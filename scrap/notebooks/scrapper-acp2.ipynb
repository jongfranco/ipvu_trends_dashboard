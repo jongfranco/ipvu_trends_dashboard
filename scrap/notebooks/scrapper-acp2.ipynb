{
 "cells": [
  {
   "cell_type": "markdown",
   "metadata": {},
   "source": [
    "**Step 1:** Get articles from [ACP](https://www.acpjournals.org/topic/category/coronavirus).\n",
    "We can use the requests library to do this."
   ]
  },
  {
   "cell_type": "code",
   "execution_count": 17,
   "metadata": {},
   "outputs": [],
   "source": [
    "# import statements\n",
    "import requests\n",
    "from bs4 import BeautifulSoup\n",
    "import pandas as pd"
   ]
  },
  {
   "cell_type": "code",
   "execution_count": 18,
   "metadata": {},
   "outputs": [],
   "source": [
    "# fetch web page\n",
    "r = requests.get(\"https://www.acpjournals.org/topic/category/coronavirus\")"
   ]
  },
  {
   "cell_type": "markdown",
   "metadata": {},
   "source": [
    "**Step 2:** Use BeautifulSoup to remove HTML tags.\n",
    "Use \"lxml\" rather than \"html5lib\".\n",
    "Outputting all the results may overload the space available to load this notebook, so we omit a print statement here.\n"
   ]
  },
  {
   "cell_type": "code",
   "execution_count": 19,
   "metadata": {},
   "outputs": [],
   "source": [
    "soup = BeautifulSoup(r.text, \"lxml\")"
   ]
  },
  {
   "cell_type": "markdown",
   "metadata": {},
   "source": [
    "**Step 3:** Find all course summaries\n",
    "Use the BeautifulSoup's find_all method to select based on tag type and class name. On Chrome, you can right click on the item, and click \"Inspect\" to view its html on a web page."
   ]
  },
  {
   "cell_type": "code",
   "execution_count": 20,
   "metadata": {},
   "outputs": [],
   "source": [
    "# Find all articles\n",
    "articles = soup.findAll(\"li\", {\"class\":\"search__item\"})"
   ]
  },
  {
   "cell_type": "code",
   "execution_count": 21,
   "metadata": {},
   "outputs": [
    {
     "data": {
      "text/plain": [
       "'Web Exclusives'"
      ]
     },
     "execution_count": 21,
     "metadata": {},
     "output_type": "execute_result"
    }
   ],
   "source": [
    "# Extract Type\n",
    "articles[1].select_one(\".meta__heading\").get_text()"
   ]
  },
  {
   "cell_type": "code",
   "execution_count": 22,
   "metadata": {},
   "outputs": [
    {
     "data": {
      "text/plain": [
       "'Annals Graphic Medicine - What I Learned From COVID-19 (Until Now)'"
      ]
     },
     "execution_count": 22,
     "metadata": {},
     "output_type": "execute_result"
    }
   ],
   "source": [
    "# Extract article title\n",
    "articles[1].select_one(\".issue-item__title\").select_one(\"a\").get_text()"
   ]
  },
  {
   "cell_type": "code",
   "execution_count": 23,
   "metadata": {},
   "outputs": [
    {
     "data": {
      "text/plain": [
       "'FREE'"
      ]
     },
     "execution_count": 23,
     "metadata": {},
     "output_type": "execute_result"
    }
   ],
   "source": [
    "# Extract article Availability\n",
    "articles[1].select_one(\".issue-item__title\").select_one(\"span\").get_text()"
   ]
  },
  {
   "cell_type": "code",
   "execution_count": 24,
   "metadata": {},
   "outputs": [
    {
     "data": {
      "text/plain": [
       "'12 May 2020'"
      ]
     },
     "execution_count": 24,
     "metadata": {},
     "output_type": "execute_result"
    }
   ],
   "source": [
    "# Extract article Pub Date\n",
    "articles[1].select_one(\".meta__epubDate\").get_text()"
   ]
  },
  {
   "cell_type": "code",
   "execution_count": 25,
   "metadata": {},
   "outputs": [
    {
     "data": {
      "text/plain": [
       "'10.7326/G20-0045'"
      ]
     },
     "execution_count": 25,
     "metadata": {},
     "output_type": "execute_result"
    }
   ],
   "source": [
    "# Extract article DOI\n",
    "articles[1].select_one(\".issue-item__title\").select_one(\"a\")[\"href\"].replace(\"/doi/\", \"\")"
   ]
  },
  {
   "cell_type": "code",
   "execution_count": 26,
   "metadata": {},
   "outputs": [
    {
     "data": {
      "text/plain": [
       "'Lucia Briatore, MD, PhD, Ilaria Pozzi'"
      ]
     },
     "execution_count": 26,
     "metadata": {},
     "output_type": "execute_result"
    }
   ],
   "source": [
    "# Extract article Authors\n",
    "articles[1].select_one(\".issue-item__authors\").get_text()"
   ]
  },
  {
   "cell_type": "code",
   "execution_count": 42,
   "metadata": {},
   "outputs": [
    {
     "data": {
      "text/plain": [
       "'/doi/10.7326/L20-0354'"
      ]
     },
     "execution_count": 42,
     "metadata": {},
     "output_type": "execute_result"
    }
   ],
   "source": [
    "# Extract article Link\n",
    "link = articles[4].select_one(\".issue-item__title\").select_one(\"a\")[\"href\"]\n",
    "link"
   ]
  },
  {
   "cell_type": "markdown",
   "metadata": {},
   "source": [
    "## Create dataset from All Articles"
   ]
  },
  {
   "cell_type": "code",
   "execution_count": 31,
   "metadata": {},
   "outputs": [],
   "source": [
    "# Create data list\n",
    "    data = list()\n",
    "    for article in articles:\n",
    "        data.append(\n",
    "            [article.select_one(\".issue-item__title\").select_one(\"a\").get_text(),\n",
    "             article.select_one(\".issue-item__title\").select_one(\"a\")[\"href\"].replace(\"/doi/\", \"\"),\n",
    "             article.select_one(\".meta__heading\").get_text(),\n",
    "             article.select_one(\".issue-item__title\").select_one(\"span\").get_text(),\n",
    "             article.select_one(\".meta__epubDate\").get_text(),\n",
    "             article.select_one(\".issue-item__authors\").get_text(),\n",
    "             \"\",\n",
    "             article.select_one(\".issue-item__title\").select_one(\"a\")[\"href\"]\n",
    "\n",
    "        ])"
   ]
  },
  {
   "cell_type": "code",
   "execution_count": 32,
   "metadata": {},
   "outputs": [
    {
     "data": {
      "text/html": [
       "<div>\n",
       "<style scoped>\n",
       "    .dataframe tbody tr th:only-of-type {\n",
       "        vertical-align: middle;\n",
       "    }\n",
       "\n",
       "    .dataframe tbody tr th {\n",
       "        vertical-align: top;\n",
       "    }\n",
       "\n",
       "    .dataframe thead th {\n",
       "        text-align: right;\n",
       "    }\n",
       "</style>\n",
       "<table border=\"1\" class=\"dataframe\">\n",
       "  <thead>\n",
       "    <tr style=\"text-align: right;\">\n",
       "      <th></th>\n",
       "      <th>Title</th>\n",
       "      <th>DOI</th>\n",
       "      <th>Type</th>\n",
       "      <th>Availability</th>\n",
       "      <th>PublishedDate</th>\n",
       "      <th>Authors</th>\n",
       "      <th>Abstract</th>\n",
       "      <th>Link</th>\n",
       "    </tr>\n",
       "  </thead>\n",
       "  <tbody>\n",
       "    <tr>\n",
       "      <th>0</th>\n",
       "      <td>Annals On Call - Clinical Reasoning and Testin...</td>\n",
       "      <td>10.7326/A19-0031</td>\n",
       "      <td>Web Exclusives</td>\n",
       "      <td>FREE</td>\n",
       "      <td>12 May 2020</td>\n",
       "      <td>Robert M. Centor, MD, Rabih Geha, MD, Reza Man...</td>\n",
       "      <td></td>\n",
       "      <td>/doi/10.7326/A19-0031</td>\n",
       "    </tr>\n",
       "    <tr>\n",
       "      <th>1</th>\n",
       "      <td>Annals Graphic Medicine - What I Learned From ...</td>\n",
       "      <td>10.7326/G20-0045</td>\n",
       "      <td>Web Exclusives</td>\n",
       "      <td>FREE</td>\n",
       "      <td>12 May 2020</td>\n",
       "      <td>Lucia Briatore, MD, PhD, Ilaria Pozzi</td>\n",
       "      <td></td>\n",
       "      <td>/doi/10.7326/G20-0045</td>\n",
       "    </tr>\n",
       "    <tr>\n",
       "      <th>2</th>\n",
       "      <td>Cytokine Levels in the Body Fluids of a Patien...</td>\n",
       "      <td>10.7326/L20-0354</td>\n",
       "      <td>Letters</td>\n",
       "      <td>FREE</td>\n",
       "      <td>12 May 2020</td>\n",
       "      <td>Changsong Wang, PhD, Kai Kang, MD, Yan Gao, Ph...</td>\n",
       "      <td></td>\n",
       "      <td>/doi/10.7326/L20-0354</td>\n",
       "    </tr>\n",
       "    <tr>\n",
       "      <th>3</th>\n",
       "      <td>Pharmacokinetics of Lopinavir and Ritonavir in...</td>\n",
       "      <td>10.7326/M20-1550</td>\n",
       "      <td>Letters</td>\n",
       "      <td>FREE</td>\n",
       "      <td>12 May 2020</td>\n",
       "      <td>Christian Schoergenhofer, MD, PhD, Bernd Jilma...</td>\n",
       "      <td></td>\n",
       "      <td>/doi/10.7326/M20-1550</td>\n",
       "    </tr>\n",
       "    <tr>\n",
       "      <th>4</th>\n",
       "      <td>Annals Consult Guys - Hydroxychloroquine: Upda...</td>\n",
       "      <td>10.7326/W19-0038</td>\n",
       "      <td>Web Exclusives</td>\n",
       "      <td>FREE</td>\n",
       "      <td>12 May 2020</td>\n",
       "      <td>Geno J. Merli, MD, Howard H. Weitz, MD</td>\n",
       "      <td></td>\n",
       "      <td>/doi/10.7326/W19-0038</td>\n",
       "    </tr>\n",
       "  </tbody>\n",
       "</table>\n",
       "</div>"
      ],
      "text/plain": [
       "                                               Title               DOI  \\\n",
       "0  Annals On Call - Clinical Reasoning and Testin...  10.7326/A19-0031   \n",
       "1  Annals Graphic Medicine - What I Learned From ...  10.7326/G20-0045   \n",
       "2  Cytokine Levels in the Body Fluids of a Patien...  10.7326/L20-0354   \n",
       "3  Pharmacokinetics of Lopinavir and Ritonavir in...  10.7326/M20-1550   \n",
       "4  Annals Consult Guys - Hydroxychloroquine: Upda...  10.7326/W19-0038   \n",
       "\n",
       "             Type Availability PublishedDate  \\\n",
       "0  Web Exclusives         FREE   12 May 2020   \n",
       "1  Web Exclusives         FREE   12 May 2020   \n",
       "2         Letters         FREE   12 May 2020   \n",
       "3         Letters         FREE   12 May 2020   \n",
       "4  Web Exclusives         FREE   12 May 2020   \n",
       "\n",
       "                                             Authors Abstract  \\\n",
       "0  Robert M. Centor, MD, Rabih Geha, MD, Reza Man...            \n",
       "1              Lucia Briatore, MD, PhD, Ilaria Pozzi            \n",
       "2  Changsong Wang, PhD, Kai Kang, MD, Yan Gao, Ph...            \n",
       "3  Christian Schoergenhofer, MD, PhD, Bernd Jilma...            \n",
       "4             Geno J. Merli, MD, Howard H. Weitz, MD            \n",
       "\n",
       "                    Link  \n",
       "0  /doi/10.7326/A19-0031  \n",
       "1  /doi/10.7326/G20-0045  \n",
       "2  /doi/10.7326/L20-0354  \n",
       "3  /doi/10.7326/M20-1550  \n",
       "4  /doi/10.7326/W19-0038  "
      ]
     },
     "execution_count": 32,
     "metadata": {},
     "output_type": "execute_result"
    }
   ],
   "source": [
    "# Create pandas dataframe\n",
    "df = pd.DataFrame(data, columns = ['Title', 'DOI', 'Type', 'Availability', 'PublishedDate', 'Authors', 'Abstract', 'Link'])\n",
    "df.head()"
   ]
  },
  {
   "cell_type": "code",
   "execution_count": 57,
   "metadata": {},
   "outputs": [],
   "source": [
    "# Export CSV\n",
    "df.to_csv('data/emea_articles.csv')"
   ]
  },
  {
   "cell_type": "code",
   "execution_count": 59,
   "metadata": {},
   "outputs": [],
   "source": [
    "# Get Abstract from link\n",
    "def get_abstract(link):\n",
    "    d = requests.get(\"https://www.acpjournals.org\" + link)\n",
    "    content_soup = BeautifulSoup(d.text, \"lxml\")\n",
    "    abst = content_soup.find(\"div\", {\"class\":\"hlFld-Fulltext\"}) if content_soup.find(\"div\", {\"class\":\"hlFld-Fulltext\"}) else None\n",
    "    parr = abst.find_all(\"p\")[:5]\n",
    "    for par in parr[:5]:\n",
    "        print(par.get_text())\n",
    "     "
   ]
  },
  {
   "cell_type": "code",
   "execution_count": 60,
   "metadata": {},
   "outputs": [
    {
     "name": "stdout",
     "output_type": "stream",
     "text": [
      "Background: Some patients with coronavirus disease 2019 (COVID-19) progress rapidly to acute respiratory distress syndrome (ARDS), septic shock, and multiple organ failure (1). Some experts attribute this sequence of events to a large increase in cytokines (cytokine storm) caused by the severe acute respiratory syndrome coronavirus 2 (SARS-CoV-2) or a secondary infection by another organism.\n",
      "Objective: To report cytokine levels in multiple body fluids from a patient with COVID-19 and ARDS, septic shock, and multiple organ failure.\n",
      "Case Report: On 20 January 2020, a 66-year-old man who had been exposed to a patient with COVID-19 developed cough and fever and treated himself at home. On 2 February, his cough and fever gradually worsened, his body temperature reached 38.7 °C, and he developed diarrhea and vomiting. He was treated at a local hospital, where his medical history included vitiligo, gastric ulcer, coronary heart disease, and chronic obstructive pulmonary disease. He developed dyspnea 2 days later, and COVID-19 was diagnosed by a throat swab that was tested for nucleic acid. He received the antiviral drug abidol and supportive care. When his dyspnea worsened, he was transferred to the intensive care unit for noninvasive mechanical ventilation. On 11 February, mechanical ventilation was started because of a progressive decrease in blood oxygen saturation, a blood lactate level of 4 mmol/L, and a PaO2–FiO2 ratio of 186 mm Hg.\n",
      "On 17 February, the patient was transferred to the Severe COVID-19 Intensive Treatment Center of Heilongjiang Province. His COVID-19 status was confirmed as a critical type, according to guidelines from the National Health Commission (trial version 7). We treated him with antiviral drugs, immunoglobulin infusions, lung-protective ventilation, and lung recruitment and prone position ventilation. In addition, we started measuring levels of the cytokines IL-6 and IL-10 in his blood daily and in his bronchoalveolar lavage fluid and pleural fluid intermittently, and we found high levels (Figure). On 23 February, we started continuous renal replacement therapy with an Oxiris filter (Baxter International), which is designed to adsorb uremic toxins, endotoxin, and cytokines. Computed tomography on 24 February showed worsening of pulmonary inflammation. On 1 March, we started extracorporeal membrane oxygenation because we could not                     maintain the patient's oxygenation with intermittent prone position ventilation. On 2 March, the patient developed septic shock and cardiac insufficiency, and we introduced an intra-aortic balloon pump. On 6 March, every-other-day plasmapheresis was started in another attempt to decrease his cytokine levels. Computed tomography on 9 March showed that the patient's lung consolidation had worsened. Unfortunately, the patient died on 14 March.\n",
      "\n"
     ]
    }
   ],
   "source": [
    "get_abstract(link)"
   ]
  },
  {
   "cell_type": "code",
   "execution_count": null,
   "metadata": {},
   "outputs": [],
   "source": []
  }
 ],
 "metadata": {
  "kernelspec": {
   "display_name": "ipvuscrapper",
   "language": "python",
   "name": "python3"
  },
  "language_info": {
   "codemirror_mode": {
    "name": "ipython",
    "version": 3
   },
   "file_extension": ".py",
   "mimetype": "text/x-python",
   "name": "python",
   "nbconvert_exporter": "python",
   "pygments_lexer": "ipython3",
   "version": "3.6.10"
  }
 },
 "nbformat": 4,
 "nbformat_minor": 4
}
