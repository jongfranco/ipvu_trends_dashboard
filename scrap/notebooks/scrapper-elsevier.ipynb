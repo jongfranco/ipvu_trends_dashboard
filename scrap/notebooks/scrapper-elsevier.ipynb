{
 "cells": [
  {
   "cell_type": "markdown",
   "metadata": {},
   "source": [
    "**Step 1:** Get articles from [Elsevier](https://www.sciencedirect.com/search?qs=%22COVID-19%22%20OR%20Coronavirus%20OR%20%22Corona%20virus%22%20OR%20Coronaviruses%20OR%20%222019-nCoV%22%20OR%20%22SARS-CoV%22%20OR%20%22MERS-CoV%22%20OR%20%E2%80%9CSevere%20Acute%20Respiratory%20Syndrome%E2%80%9D%20OR%20%E2%80%9CMiddle%20East%20Respiratory%20Syndrome%E2%80%9D&show=100&ent=true).\n",
    "Elsevier provides an [API](https://dev.elsevier.com/apikey/manage) to access it's sciencedirect articles.\n",
    "We can use the requests library to do this."
   ]
  },
  {
   "cell_type": "code",
   "execution_count": 45,
   "metadata": {},
   "outputs": [],
   "source": [
    "# import statements\n",
    "import requests\n",
    "from bs4 import BeautifulSoup\n",
    "import pandas as pd"
   ]
  },
  {
   "cell_type": "code",
   "execution_count": 5,
   "metadata": {},
   "outputs": [],
   "source": [
    "# Fetch web page\n",
    "r = requests.get(\"https://api.elsevier.com/content/search/sciencedirect?query=covid&apiKey=7f59af901d2d86f78a1fd60c1bf9426a\")"
   ]
  },
  {
   "cell_type": "markdown",
   "metadata": {},
   "source": [
    "**Step 2:** Use requests to get json of the API"
   ]
  },
  {
   "cell_type": "code",
   "execution_count": 24,
   "metadata": {},
   "outputs": [
    {
     "name": "stdout",
     "output_type": "stream",
     "text": [
      "dict_keys(['@_fa', 'load-date', 'link', 'dc:identifier', 'prism:url', 'dc:title', 'dc:creator', 'prism:publicationName', 'prism:coverDate', 'prism:doi', 'openaccess', 'pii', 'authors'])\n"
     ]
    }
   ],
   "source": [
    "articles = r.json().get('search-results').get('entry')\n",
    "print(articles[0].keys())"
   ]
  },
  {
   "cell_type": "markdown",
   "metadata": {},
   "source": [
    "**Step 3:** Find all course summaries"
   ]
  },
  {
   "cell_type": "code",
   "execution_count": 28,
   "metadata": {},
   "outputs": [
    {
     "data": {
      "text/plain": [
       "'DOI:10.1016/j.neurol.2020.04.004'"
      ]
     },
     "execution_count": 28,
     "metadata": {},
     "output_type": "execute_result"
    }
   ],
   "source": [
    "# Extract Article ID\n",
    "articles[0].get('dc:identifier')"
   ]
  },
  {
   "cell_type": "code",
   "execution_count": 29,
   "metadata": {},
   "outputs": [
    {
     "data": {
      "text/plain": [
       "'2020-04-20T00:00:00.000Z'"
      ]
     },
     "execution_count": 29,
     "metadata": {},
     "output_type": "execute_result"
    }
   ],
   "source": [
    "# Extract Published Date\n",
    "articles[0].get('load-date').split(\"T\")[0]"
   ]
  },
  {
   "cell_type": "code",
   "execution_count": 30,
   "metadata": {},
   "outputs": [
    {
     "data": {
      "text/plain": [
       "'Guidance for the care of neuromuscular patients during the COVID-19 pandemic outbreak from the French Rare Health Care for Neuromuscular Diseases Network'"
      ]
     },
     "execution_count": 30,
     "metadata": {},
     "output_type": "execute_result"
    }
   ],
   "source": [
    "# Extract Title\n",
    "articles[0].get('dc:title')"
   ]
  },
  {
   "cell_type": "code",
   "execution_count": 33,
   "metadata": {},
   "outputs": [
    {
     "data": {
      "text/plain": [
       "'Revue Neurologique'"
      ]
     },
     "execution_count": 33,
     "metadata": {},
     "output_type": "execute_result"
    }
   ],
   "source": [
    "# Extract Pub Name\n",
    "articles[0].get('prism:publicationName')"
   ]
  },
  {
   "cell_type": "code",
   "execution_count": 39,
   "metadata": {},
   "outputs": [
    {
     "data": {
      "text/plain": [
       "'G. Solé'"
      ]
     },
     "execution_count": 39,
     "metadata": {},
     "output_type": "execute_result"
    }
   ],
   "source": [
    "# Extract Creator\n",
    "articles[0].get('dc:creator')"
   ]
  },
  {
   "cell_type": "code",
   "execution_count": 38,
   "metadata": {},
   "outputs": [
    {
     "data": {
      "text/plain": [
       "{'author': [{'$': 'G. Solé'},\n",
       "  {'$': 'E. Salort-Campana'},\n",
       "  {'$': 'Y. Pereon'},\n",
       "  {'$': 'T. Stojkovic'},\n",
       "  {'$': 'FILNEMUS COVID-19 study group'}]}"
      ]
     },
     "execution_count": 38,
     "metadata": {},
     "output_type": "execute_result"
    }
   ],
   "source": [
    "# Extract Authors\n",
    "articles[0].get('authors')"
   ]
  },
  {
   "cell_type": "code",
   "execution_count": 34,
   "metadata": {},
   "outputs": [
    {
     "data": {
      "text/plain": [
       "'https://api.elsevier.com/content/article/pii/S0035378720305233'"
      ]
     },
     "execution_count": 34,
     "metadata": {},
     "output_type": "execute_result"
    }
   ],
   "source": [
    "# Extract Link\n",
    "articles[0].get('prism:url')"
   ]
  },
  {
   "cell_type": "code",
   "execution_count": 35,
   "metadata": {},
   "outputs": [
    {
     "data": {
      "text/plain": [
       "'10.1016/j.neurol.2020.04.004'"
      ]
     },
     "execution_count": 35,
     "metadata": {},
     "output_type": "execute_result"
    }
   ],
   "source": [
    "# Extract DOI\n",
    "articles[0].get('prism:doi')"
   ]
  },
  {
   "cell_type": "code",
   "execution_count": 36,
   "metadata": {},
   "outputs": [
    {
     "data": {
      "text/plain": [
       "False"
      ]
     },
     "execution_count": 36,
     "metadata": {},
     "output_type": "execute_result"
    }
   ],
   "source": [
    "# Extract openaccess\n",
    "articles[0].get('openaccess')"
   ]
  },
  {
   "cell_type": "code",
   "execution_count": 37,
   "metadata": {},
   "outputs": [
    {
     "data": {
      "text/plain": [
       "'S0035378720305233'"
      ]
     },
     "execution_count": 37,
     "metadata": {},
     "output_type": "execute_result"
    }
   ],
   "source": [
    "# Extract PII\n",
    "articles[0].get('pii')"
   ]
  },
  {
   "cell_type": "markdown",
   "metadata": {},
   "source": [
    "## Create dataset from All Articles"
   ]
  },
  {
   "cell_type": "code",
   "execution_count": 94,
   "metadata": {},
   "outputs": [],
   "source": [
    "def get_abstract(url: str):\n",
    "    print(\"getting abstract from \" + url)\n",
    "    d = requests.get(str(url) + \"?apiKey=7f59af901d2d86f78a1fd60c1bf9426a\",\n",
    "                     headers={'Accept': 'application/json'},\n",
    "                     timeout=10)\n",
    "    return d.json()[\"full-text-retrieval-response\"][\"coredata\"][\"dc:description\"]"
   ]
  },
  {
   "cell_type": "code",
   "execution_count": 95,
   "metadata": {},
   "outputs": [
    {
     "name": "stdout",
     "output_type": "stream",
     "text": [
      "getting abstract from https://api.elsevier.com/content/article/pii/S0035378720305233\n",
      "getting abstract from https://api.elsevier.com/content/article/pii/S0003497520305877\n",
      "getting abstract from https://api.elsevier.com/content/article/pii/S0049384820301407\n",
      "getting abstract from https://api.elsevier.com/content/article/pii/S2468024920311700\n",
      "getting abstract from https://api.elsevier.com/content/article/pii/S0003426620300627\n",
      "getting abstract from https://api.elsevier.com/content/article/pii/S1525861020303479\n",
      "getting abstract from https://api.elsevier.com/content/article/pii/S001502822030385X\n",
      "getting abstract from https://api.elsevier.com/content/article/pii/S0022522320310114\n",
      "getting abstract from https://api.elsevier.com/content/article/pii/S0040595720300688\n",
      "getting abstract from https://api.elsevier.com/content/article/pii/S1201971220302770\n",
      "getting abstract from https://api.elsevier.com/content/article/pii/S1386653220301219\n",
      "getting abstract from https://api.elsevier.com/content/article/pii/S2666354620300296\n",
      "getting abstract from https://api.elsevier.com/content/article/pii/S1878788620301168\n",
      "getting abstract from https://api.elsevier.com/content/article/pii/S0009898120301248\n",
      "getting abstract from https://api.elsevier.com/content/article/pii/S0026049520301086\n",
      "getting abstract from https://api.elsevier.com/content/article/pii/S0003392820300561\n",
      "getting abstract from https://api.elsevier.com/content/article/pii/S0025619620303670\n",
      "getting abstract from https://api.elsevier.com/content/article/pii/S0924857920301394\n",
      "getting abstract from https://api.elsevier.com/content/article/pii/S0735675720302801\n",
      "getting abstract from https://api.elsevier.com/content/article/pii/S0009898120301790\n",
      "getting abstract from https://api.elsevier.com/content/article/pii/S0048969720323998\n",
      "getting abstract from https://api.elsevier.com/content/article/pii/S0929664620301431\n",
      "getting abstract from https://api.elsevier.com/content/article/pii/S0009739X20300695\n",
      "getting abstract from https://api.elsevier.com/content/article/pii/S2666354620300417\n",
      "getting abstract from https://api.elsevier.com/content/article/pii/S0195670120302103\n"
     ]
    }
   ],
   "source": [
    "# Create data list\n",
    "data = list()\n",
    "for article in articles:\n",
    "    data.append(\n",
    "        [article.get('dc:identifier'),\n",
    "         article.get('load-date'),\n",
    "         article.get('dc:title'),\n",
    "         get_abstract(article.get('prism:url')),\n",
    "         article.get('prism:publicationName'),\n",
    "         article.get('dc:creator'),\n",
    "         article.get('authors'),\n",
    "         article.get('prism:url'),\n",
    "         article.get('prism:doi'),\n",
    "         'Open' if bool(article.get('openaccess')) else 'Private',\n",
    "         article.get('pii')\n",
    "    ])"
   ]
  },
  {
   "cell_type": "code",
   "execution_count": 96,
   "metadata": {},
   "outputs": [
    {
     "data": {
      "text/html": [
       "<div>\n",
       "<style scoped>\n",
       "    .dataframe tbody tr th:only-of-type {\n",
       "        vertical-align: middle;\n",
       "    }\n",
       "\n",
       "    .dataframe tbody tr th {\n",
       "        vertical-align: top;\n",
       "    }\n",
       "\n",
       "    .dataframe thead th {\n",
       "        text-align: right;\n",
       "    }\n",
       "</style>\n",
       "<table border=\"1\" class=\"dataframe\">\n",
       "  <thead>\n",
       "    <tr style=\"text-align: right;\">\n",
       "      <th></th>\n",
       "      <th>ID</th>\n",
       "      <th>PublishedDate</th>\n",
       "      <th>Title</th>\n",
       "      <th>Abstract</th>\n",
       "      <th>PublicationName</th>\n",
       "      <th>Creator</th>\n",
       "      <th>Authors</th>\n",
       "      <th>Link</th>\n",
       "      <th>DOI</th>\n",
       "      <th>Availability</th>\n",
       "      <th>PII</th>\n",
       "    </tr>\n",
       "  </thead>\n",
       "  <tbody>\n",
       "    <tr>\n",
       "      <th>0</th>\n",
       "      <td>DOI:10.1016/j.neurol.2020.04.004</td>\n",
       "      <td>2020-04-20T00:00:00.000Z</td>\n",
       "      <td>Guidance for the care of neuromuscular patient...</td>\n",
       "      <td>\\n               Abstract\\n               \\n  ...</td>\n",
       "      <td>Revue Neurologique</td>\n",
       "      <td>G. Solé</td>\n",
       "      <td>{'author': [{'$': 'G. Solé'}, {'$': 'E. Salort...</td>\n",
       "      <td>https://api.elsevier.com/content/article/pii/S...</td>\n",
       "      <td>10.1016/j.neurol.2020.04.004</td>\n",
       "      <td>Private</td>\n",
       "      <td>S0035378720305233</td>\n",
       "    </tr>\n",
       "    <tr>\n",
       "      <th>1</th>\n",
       "      <td>DOI:10.1016/j.athoracsur.2020.04.007</td>\n",
       "      <td>2020-04-27T00:00:00.000Z</td>\n",
       "      <td>Adult Cardiac Surgery and the COVID-19 Pandemi...</td>\n",
       "      <td>\\n               Abstract\\n               \\n  ...</td>\n",
       "      <td>The Annals of Thoracic Surgery</td>\n",
       "      <td>Daniel T. Engelman</td>\n",
       "      <td>{'author': [{'$': 'Daniel T. Engelman'}, {'$':...</td>\n",
       "      <td>https://api.elsevier.com/content/article/pii/S...</td>\n",
       "      <td>10.1016/j.athoracsur.2020.04.007</td>\n",
       "      <td>Private</td>\n",
       "      <td>S0003497520305877</td>\n",
       "    </tr>\n",
       "    <tr>\n",
       "      <th>2</th>\n",
       "      <td>DOI:10.1016/j.thromres.2020.04.024</td>\n",
       "      <td>2020-04-23T00:00:00.000Z</td>\n",
       "      <td>Venous and arterial thromboembolic complicatio...</td>\n",
       "      <td>\\n               Abstract\\n               \\n  ...</td>\n",
       "      <td>Thrombosis Research</td>\n",
       "      <td>Corrado Lodigiani</td>\n",
       "      <td>{'author': [{'$': 'Corrado Lodigiani'}, {'$': ...</td>\n",
       "      <td>https://api.elsevier.com/content/article/pii/S...</td>\n",
       "      <td>10.1016/j.thromres.2020.04.024</td>\n",
       "      <td>Private</td>\n",
       "      <td>S0049384820301407</td>\n",
       "    </tr>\n",
       "    <tr>\n",
       "      <th>3</th>\n",
       "      <td>DOI:10.1016/j.ekir.2020.04.001</td>\n",
       "      <td>2020-04-04T00:00:00.000Z</td>\n",
       "      <td>Management of Patients on Dialysis and With Ki...</td>\n",
       "      <td>The severe acute respiratory syndrome coronavi...</td>\n",
       "      <td>Kidney International Reports</td>\n",
       "      <td>Federico Alberici</td>\n",
       "      <td>{'author': [{'$': 'Federico Alberici'}, {'$': ...</td>\n",
       "      <td>https://api.elsevier.com/content/article/pii/S...</td>\n",
       "      <td>10.1016/j.ekir.2020.04.001</td>\n",
       "      <td>Open</td>\n",
       "      <td>S2468024920311700</td>\n",
       "    </tr>\n",
       "    <tr>\n",
       "      <th>4</th>\n",
       "      <td>DOI:10.1016/j.ando.2020.04.005</td>\n",
       "      <td>2020-04-21T00:00:00.000Z</td>\n",
       "      <td>Renin-angiotensin-aldosterone system and COVID...</td>\n",
       "      <td>\\n               Abstract\\n               \\n  ...</td>\n",
       "      <td>Annales d'Endocrinologie</td>\n",
       "      <td>J Alexandre</td>\n",
       "      <td>{'author': [{'$': 'J Alexandre'}, {'$': 'JL Cr...</td>\n",
       "      <td>https://api.elsevier.com/content/article/pii/S...</td>\n",
       "      <td>10.1016/j.ando.2020.04.005</td>\n",
       "      <td>Private</td>\n",
       "      <td>S0003426620300627</td>\n",
       "    </tr>\n",
       "  </tbody>\n",
       "</table>\n",
       "</div>"
      ],
      "text/plain": [
       "                                     ID             PublishedDate  \\\n",
       "0      DOI:10.1016/j.neurol.2020.04.004  2020-04-20T00:00:00.000Z   \n",
       "1  DOI:10.1016/j.athoracsur.2020.04.007  2020-04-27T00:00:00.000Z   \n",
       "2    DOI:10.1016/j.thromres.2020.04.024  2020-04-23T00:00:00.000Z   \n",
       "3        DOI:10.1016/j.ekir.2020.04.001  2020-04-04T00:00:00.000Z   \n",
       "4        DOI:10.1016/j.ando.2020.04.005  2020-04-21T00:00:00.000Z   \n",
       "\n",
       "                                               Title  \\\n",
       "0  Guidance for the care of neuromuscular patient...   \n",
       "1  Adult Cardiac Surgery and the COVID-19 Pandemi...   \n",
       "2  Venous and arterial thromboembolic complicatio...   \n",
       "3  Management of Patients on Dialysis and With Ki...   \n",
       "4  Renin-angiotensin-aldosterone system and COVID...   \n",
       "\n",
       "                                            Abstract  \\\n",
       "0  \\n               Abstract\\n               \\n  ...   \n",
       "1  \\n               Abstract\\n               \\n  ...   \n",
       "2  \\n               Abstract\\n               \\n  ...   \n",
       "3  The severe acute respiratory syndrome coronavi...   \n",
       "4  \\n               Abstract\\n               \\n  ...   \n",
       "\n",
       "                  PublicationName             Creator  \\\n",
       "0              Revue Neurologique             G. Solé   \n",
       "1  The Annals of Thoracic Surgery  Daniel T. Engelman   \n",
       "2             Thrombosis Research   Corrado Lodigiani   \n",
       "3    Kidney International Reports   Federico Alberici   \n",
       "4        Annales d'Endocrinologie         J Alexandre   \n",
       "\n",
       "                                             Authors  \\\n",
       "0  {'author': [{'$': 'G. Solé'}, {'$': 'E. Salort...   \n",
       "1  {'author': [{'$': 'Daniel T. Engelman'}, {'$':...   \n",
       "2  {'author': [{'$': 'Corrado Lodigiani'}, {'$': ...   \n",
       "3  {'author': [{'$': 'Federico Alberici'}, {'$': ...   \n",
       "4  {'author': [{'$': 'J Alexandre'}, {'$': 'JL Cr...   \n",
       "\n",
       "                                                Link  \\\n",
       "0  https://api.elsevier.com/content/article/pii/S...   \n",
       "1  https://api.elsevier.com/content/article/pii/S...   \n",
       "2  https://api.elsevier.com/content/article/pii/S...   \n",
       "3  https://api.elsevier.com/content/article/pii/S...   \n",
       "4  https://api.elsevier.com/content/article/pii/S...   \n",
       "\n",
       "                                DOI Availability                PII  \n",
       "0      10.1016/j.neurol.2020.04.004      Private  S0035378720305233  \n",
       "1  10.1016/j.athoracsur.2020.04.007      Private  S0003497520305877  \n",
       "2    10.1016/j.thromres.2020.04.024      Private  S0049384820301407  \n",
       "3        10.1016/j.ekir.2020.04.001         Open  S2468024920311700  \n",
       "4        10.1016/j.ando.2020.04.005      Private  S0003426620300627  "
      ]
     },
     "execution_count": 96,
     "metadata": {},
     "output_type": "execute_result"
    }
   ],
   "source": [
    "# Create pandas dataframe\n",
    "df = pd.DataFrame(data, columns = ['ID', 'PublishedDate', 'Title', 'Abstract', 'PublicationName', 'Creator', 'Authors', 'Link', 'DOI', 'Availability', 'PII'])\n",
    "df.head()"
   ]
  },
  {
   "cell_type": "code",
   "execution_count": 97,
   "metadata": {},
   "outputs": [],
   "source": [
    "# Export CSV\n",
    "df.to_csv('data/elsevier_articles.csv')"
   ]
  },
  {
   "cell_type": "code",
   "execution_count": null,
   "metadata": {},
   "outputs": [],
   "source": []
  }
 ],
 "metadata": {
  "kernelspec": {
   "display_name": "ipvuscrapper",
   "language": "python",
   "name": "python3"
  },
  "language_info": {
   "codemirror_mode": {
    "name": "ipython",
    "version": 3
   },
   "file_extension": ".py",
   "mimetype": "text/x-python",
   "name": "python",
   "nbconvert_exporter": "python",
   "pygments_lexer": "ipython3",
   "version": "3.6.10"
  }
 },
 "nbformat": 4,
 "nbformat_minor": 4
}
